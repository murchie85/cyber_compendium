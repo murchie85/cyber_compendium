{
 "cells": [
  {
   "cell_type": "markdown",
   "metadata": {},
   "source": [
    "# CYBER SECURITY COMPENDIUM"
   ]
  },
  {
   "cell_type": "markdown",
   "metadata": {},
   "source": [
    "![TITLE IMAGE](head.jpg)"
   ]
  },
  {
   "cell_type": "markdown",
   "metadata": {},
   "source": [
    "# RESOURCES LIST "
   ]
  },
  {
   "cell_type": "markdown",
   "metadata": {},
   "source": [
    "## In progress"
   ]
  },
  {
   "cell_type": "markdown",
   "metadata": {},
   "source": [
    "- NIST FRAMEWORK  [NIST](https://www.nist.gov/cyberframework) \n",
    "- AWESOME-PENTEST  [PENTEST](https://github.com/enaqx/awesome-pentest)\n",
    "- NMAP How to [NMAP](https://hackertarget.com/nmap-tutorial/)\n",
    "- OWASP  [OWASP](https://www.owasp.org/index.php/Main_Page)\n",
    "- Signature Wrapping [Here](https://www.ws-attacks.org/XML_Signature_Wrapping)\n",
    "- Hack the Box [here](https://www.hackthebox.eu/)\n",
    "- Hack the Box tutorial [here](https://0xrick.github.io/hack-the-box/teacher/)"
   ]
  },
  {
   "cell_type": "code",
   "execution_count": null,
   "metadata": {},
   "outputs": [],
   "source": []
  }
 ],
 "metadata": {
  "kernelspec": {
   "display_name": "Python 3",
   "language": "python",
   "name": "python3"
  },
  "language_info": {
   "codemirror_mode": {
    "name": "ipython",
    "version": 3
   },
   "file_extension": ".py",
   "mimetype": "text/x-python",
   "name": "python",
   "nbconvert_exporter": "python",
   "pygments_lexer": "ipython3",
   "version": "3.7.3"
  }
 },
 "nbformat": 4,
 "nbformat_minor": 2
}
